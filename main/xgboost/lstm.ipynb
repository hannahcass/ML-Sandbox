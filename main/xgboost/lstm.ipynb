{
 "cells": [
  {
   "cell_type": "code",
   "execution_count": 143,
   "metadata": {},
   "outputs": [],
   "source": [
    "import pandas as pd\n",
    "import numpy as np\n",
    "import torch\n",
    "import torch.nn as nn\n",
    "from torch.optim import Adam\n",
    "from torch.utils.data import TensorDataset, DataLoader\n",
    "import optuna\n",
    "from sklearn.model_selection import train_test_split\n",
    "from sklearn.metrics import r2_score, mean_squared_error\n",
    "from tqdm import tqdm\n",
    "import matplotlib.pyplot as plt"
   ]
  },
  {
   "cell_type": "code",
   "execution_count": 47,
   "metadata": {},
   "outputs": [],
   "source": [
    "device = torch.device(\"cuda\" if torch.cuda.is_available() else \"cpu\")"
   ]
  },
  {
   "cell_type": "code",
   "execution_count": 9,
   "metadata": {},
   "outputs": [],
   "source": [
    "data = pd.read_csv(\n",
    "    \"D:\\projects_2023\\main\\datasets\\stock_exchange_data\\indexProcessed.csv\")"
   ]
  },
  {
   "cell_type": "code",
   "execution_count": 10,
   "metadata": {},
   "outputs": [
    {
     "data": {
      "text/html": [
       "<div>\n",
       "<style scoped>\n",
       "    .dataframe tbody tr th:only-of-type {\n",
       "        vertical-align: middle;\n",
       "    }\n",
       "\n",
       "    .dataframe tbody tr th {\n",
       "        vertical-align: top;\n",
       "    }\n",
       "\n",
       "    .dataframe thead th {\n",
       "        text-align: right;\n",
       "    }\n",
       "</style>\n",
       "<table border=\"1\" class=\"dataframe\">\n",
       "  <thead>\n",
       "    <tr style=\"text-align: right;\">\n",
       "      <th></th>\n",
       "      <th>Index</th>\n",
       "      <th>Date</th>\n",
       "      <th>Open</th>\n",
       "      <th>High</th>\n",
       "      <th>Low</th>\n",
       "      <th>Close</th>\n",
       "      <th>Adj Close</th>\n",
       "      <th>Volume</th>\n",
       "      <th>CloseUSD</th>\n",
       "    </tr>\n",
       "  </thead>\n",
       "  <tbody>\n",
       "    <tr>\n",
       "      <th>0</th>\n",
       "      <td>HSI</td>\n",
       "      <td>1986-12-31</td>\n",
       "      <td>2568.300049</td>\n",
       "      <td>2568.300049</td>\n",
       "      <td>2568.300049</td>\n",
       "      <td>2568.300049</td>\n",
       "      <td>2568.300049</td>\n",
       "      <td>0.0</td>\n",
       "      <td>333.879006</td>\n",
       "    </tr>\n",
       "    <tr>\n",
       "      <th>1</th>\n",
       "      <td>HSI</td>\n",
       "      <td>1987-01-02</td>\n",
       "      <td>2540.100098</td>\n",
       "      <td>2540.100098</td>\n",
       "      <td>2540.100098</td>\n",
       "      <td>2540.100098</td>\n",
       "      <td>2540.100098</td>\n",
       "      <td>0.0</td>\n",
       "      <td>330.213013</td>\n",
       "    </tr>\n",
       "    <tr>\n",
       "      <th>2</th>\n",
       "      <td>HSI</td>\n",
       "      <td>1987-01-05</td>\n",
       "      <td>2552.399902</td>\n",
       "      <td>2552.399902</td>\n",
       "      <td>2552.399902</td>\n",
       "      <td>2552.399902</td>\n",
       "      <td>2552.399902</td>\n",
       "      <td>0.0</td>\n",
       "      <td>331.811987</td>\n",
       "    </tr>\n",
       "    <tr>\n",
       "      <th>3</th>\n",
       "      <td>HSI</td>\n",
       "      <td>1987-01-06</td>\n",
       "      <td>2583.899902</td>\n",
       "      <td>2583.899902</td>\n",
       "      <td>2583.899902</td>\n",
       "      <td>2583.899902</td>\n",
       "      <td>2583.899902</td>\n",
       "      <td>0.0</td>\n",
       "      <td>335.906987</td>\n",
       "    </tr>\n",
       "    <tr>\n",
       "      <th>4</th>\n",
       "      <td>HSI</td>\n",
       "      <td>1987-01-07</td>\n",
       "      <td>2607.100098</td>\n",
       "      <td>2607.100098</td>\n",
       "      <td>2607.100098</td>\n",
       "      <td>2607.100098</td>\n",
       "      <td>2607.100098</td>\n",
       "      <td>0.0</td>\n",
       "      <td>338.923013</td>\n",
       "    </tr>\n",
       "  </tbody>\n",
       "</table>\n",
       "</div>"
      ],
      "text/plain": [
       "  Index        Date         Open         High          Low        Close  \\\n",
       "0   HSI  1986-12-31  2568.300049  2568.300049  2568.300049  2568.300049   \n",
       "1   HSI  1987-01-02  2540.100098  2540.100098  2540.100098  2540.100098   \n",
       "2   HSI  1987-01-05  2552.399902  2552.399902  2552.399902  2552.399902   \n",
       "3   HSI  1987-01-06  2583.899902  2583.899902  2583.899902  2583.899902   \n",
       "4   HSI  1987-01-07  2607.100098  2607.100098  2607.100098  2607.100098   \n",
       "\n",
       "     Adj Close  Volume    CloseUSD  \n",
       "0  2568.300049     0.0  333.879006  \n",
       "1  2540.100098     0.0  330.213013  \n",
       "2  2552.399902     0.0  331.811987  \n",
       "3  2583.899902     0.0  335.906987  \n",
       "4  2607.100098     0.0  338.923013  "
      ]
     },
     "execution_count": 10,
     "metadata": {},
     "output_type": "execute_result"
    }
   ],
   "source": [
    "data.head()"
   ]
  },
  {
   "cell_type": "code",
   "execution_count": 11,
   "metadata": {},
   "outputs": [],
   "source": [
    "data = data[data['Index']=='GDAXI']\n"
   ]
  },
  {
   "cell_type": "code",
   "execution_count": 12,
   "metadata": {},
   "outputs": [
    {
     "data": {
      "text/html": [
       "<div>\n",
       "<style scoped>\n",
       "    .dataframe tbody tr th:only-of-type {\n",
       "        vertical-align: middle;\n",
       "    }\n",
       "\n",
       "    .dataframe tbody tr th {\n",
       "        vertical-align: top;\n",
       "    }\n",
       "\n",
       "    .dataframe thead th {\n",
       "        text-align: right;\n",
       "    }\n",
       "</style>\n",
       "<table border=\"1\" class=\"dataframe\">\n",
       "  <thead>\n",
       "    <tr style=\"text-align: right;\">\n",
       "      <th></th>\n",
       "      <th>Date</th>\n",
       "      <th>Open</th>\n",
       "      <th>High</th>\n",
       "      <th>Low</th>\n",
       "      <th>Close</th>\n",
       "      <th>Adj Close</th>\n",
       "      <th>Volume</th>\n",
       "      <th>CloseUSD</th>\n",
       "    </tr>\n",
       "  </thead>\n",
       "  <tbody>\n",
       "    <tr>\n",
       "      <th>79900</th>\n",
       "      <td>1987-12-30</td>\n",
       "      <td>1005.190002</td>\n",
       "      <td>1005.190002</td>\n",
       "      <td>1005.190002</td>\n",
       "      <td>1005.190002</td>\n",
       "      <td>1005.190002</td>\n",
       "      <td>0.0</td>\n",
       "      <td>1226.331802</td>\n",
       "    </tr>\n",
       "    <tr>\n",
       "      <th>79901</th>\n",
       "      <td>1988-01-04</td>\n",
       "      <td>956.489990</td>\n",
       "      <td>956.489990</td>\n",
       "      <td>956.489990</td>\n",
       "      <td>956.489990</td>\n",
       "      <td>956.489990</td>\n",
       "      <td>0.0</td>\n",
       "      <td>1166.917788</td>\n",
       "    </tr>\n",
       "    <tr>\n",
       "      <th>79902</th>\n",
       "      <td>1988-01-05</td>\n",
       "      <td>996.099976</td>\n",
       "      <td>996.099976</td>\n",
       "      <td>996.099976</td>\n",
       "      <td>996.099976</td>\n",
       "      <td>996.099976</td>\n",
       "      <td>0.0</td>\n",
       "      <td>1215.241971</td>\n",
       "    </tr>\n",
       "    <tr>\n",
       "      <th>79903</th>\n",
       "      <td>1988-01-06</td>\n",
       "      <td>1006.010010</td>\n",
       "      <td>1006.010010</td>\n",
       "      <td>1006.010010</td>\n",
       "      <td>1006.010010</td>\n",
       "      <td>1006.010010</td>\n",
       "      <td>0.0</td>\n",
       "      <td>1227.332212</td>\n",
       "    </tr>\n",
       "    <tr>\n",
       "      <th>79904</th>\n",
       "      <td>1988-01-07</td>\n",
       "      <td>1014.469971</td>\n",
       "      <td>1014.469971</td>\n",
       "      <td>1014.469971</td>\n",
       "      <td>1014.469971</td>\n",
       "      <td>1014.469971</td>\n",
       "      <td>0.0</td>\n",
       "      <td>1237.653365</td>\n",
       "    </tr>\n",
       "  </tbody>\n",
       "</table>\n",
       "</div>"
      ],
      "text/plain": [
       "             Date         Open         High          Low        Close  \\\n",
       "79900  1987-12-30  1005.190002  1005.190002  1005.190002  1005.190002   \n",
       "79901  1988-01-04   956.489990   956.489990   956.489990   956.489990   \n",
       "79902  1988-01-05   996.099976   996.099976   996.099976   996.099976   \n",
       "79903  1988-01-06  1006.010010  1006.010010  1006.010010  1006.010010   \n",
       "79904  1988-01-07  1014.469971  1014.469971  1014.469971  1014.469971   \n",
       "\n",
       "         Adj Close  Volume     CloseUSD  \n",
       "79900  1005.190002     0.0  1226.331802  \n",
       "79901   956.489990     0.0  1166.917788  \n",
       "79902   996.099976     0.0  1215.241971  \n",
       "79903  1006.010010     0.0  1227.332212  \n",
       "79904  1014.469971     0.0  1237.653365  "
      ]
     },
     "execution_count": 12,
     "metadata": {},
     "output_type": "execute_result"
    }
   ],
   "source": [
    "data = data.drop([\"Index\", ], axis=1)\n",
    "data.head()"
   ]
  },
  {
   "cell_type": "code",
   "execution_count": 13,
   "metadata": {},
   "outputs": [],
   "source": [
    "data = data.set_index(\"Date\")"
   ]
  },
  {
   "cell_type": "code",
   "execution_count": 14,
   "metadata": {},
   "outputs": [
    {
     "data": {
      "text/html": [
       "<div>\n",
       "<style scoped>\n",
       "    .dataframe tbody tr th:only-of-type {\n",
       "        vertical-align: middle;\n",
       "    }\n",
       "\n",
       "    .dataframe tbody tr th {\n",
       "        vertical-align: top;\n",
       "    }\n",
       "\n",
       "    .dataframe thead th {\n",
       "        text-align: right;\n",
       "    }\n",
       "</style>\n",
       "<table border=\"1\" class=\"dataframe\">\n",
       "  <thead>\n",
       "    <tr style=\"text-align: right;\">\n",
       "      <th></th>\n",
       "      <th>Open</th>\n",
       "      <th>High</th>\n",
       "      <th>Low</th>\n",
       "      <th>Close</th>\n",
       "      <th>Adj Close</th>\n",
       "      <th>Volume</th>\n",
       "      <th>CloseUSD</th>\n",
       "    </tr>\n",
       "    <tr>\n",
       "      <th>Date</th>\n",
       "      <th></th>\n",
       "      <th></th>\n",
       "      <th></th>\n",
       "      <th></th>\n",
       "      <th></th>\n",
       "      <th></th>\n",
       "      <th></th>\n",
       "    </tr>\n",
       "  </thead>\n",
       "  <tbody>\n",
       "    <tr>\n",
       "      <th>1987-12-30</th>\n",
       "      <td>1005.190002</td>\n",
       "      <td>1005.190002</td>\n",
       "      <td>1005.190002</td>\n",
       "      <td>1005.190002</td>\n",
       "      <td>1005.190002</td>\n",
       "      <td>0.0</td>\n",
       "      <td>1226.331802</td>\n",
       "    </tr>\n",
       "    <tr>\n",
       "      <th>1988-01-04</th>\n",
       "      <td>956.489990</td>\n",
       "      <td>956.489990</td>\n",
       "      <td>956.489990</td>\n",
       "      <td>956.489990</td>\n",
       "      <td>956.489990</td>\n",
       "      <td>0.0</td>\n",
       "      <td>1166.917788</td>\n",
       "    </tr>\n",
       "    <tr>\n",
       "      <th>1988-01-05</th>\n",
       "      <td>996.099976</td>\n",
       "      <td>996.099976</td>\n",
       "      <td>996.099976</td>\n",
       "      <td>996.099976</td>\n",
       "      <td>996.099976</td>\n",
       "      <td>0.0</td>\n",
       "      <td>1215.241971</td>\n",
       "    </tr>\n",
       "    <tr>\n",
       "      <th>1988-01-06</th>\n",
       "      <td>1006.010010</td>\n",
       "      <td>1006.010010</td>\n",
       "      <td>1006.010010</td>\n",
       "      <td>1006.010010</td>\n",
       "      <td>1006.010010</td>\n",
       "      <td>0.0</td>\n",
       "      <td>1227.332212</td>\n",
       "    </tr>\n",
       "    <tr>\n",
       "      <th>1988-01-07</th>\n",
       "      <td>1014.469971</td>\n",
       "      <td>1014.469971</td>\n",
       "      <td>1014.469971</td>\n",
       "      <td>1014.469971</td>\n",
       "      <td>1014.469971</td>\n",
       "      <td>0.0</td>\n",
       "      <td>1237.653365</td>\n",
       "    </tr>\n",
       "  </tbody>\n",
       "</table>\n",
       "</div>"
      ],
      "text/plain": [
       "                   Open         High          Low        Close    Adj Close  \\\n",
       "Date                                                                          \n",
       "1987-12-30  1005.190002  1005.190002  1005.190002  1005.190002  1005.190002   \n",
       "1988-01-04   956.489990   956.489990   956.489990   956.489990   956.489990   \n",
       "1988-01-05   996.099976   996.099976   996.099976   996.099976   996.099976   \n",
       "1988-01-06  1006.010010  1006.010010  1006.010010  1006.010010  1006.010010   \n",
       "1988-01-07  1014.469971  1014.469971  1014.469971  1014.469971  1014.469971   \n",
       "\n",
       "            Volume     CloseUSD  \n",
       "Date                             \n",
       "1987-12-30     0.0  1226.331802  \n",
       "1988-01-04     0.0  1166.917788  \n",
       "1988-01-05     0.0  1215.241971  \n",
       "1988-01-06     0.0  1227.332212  \n",
       "1988-01-07     0.0  1237.653365  "
      ]
     },
     "execution_count": 14,
     "metadata": {},
     "output_type": "execute_result"
    }
   ],
   "source": [
    "data.head()"
   ]
  },
  {
   "cell_type": "code",
   "execution_count": 16,
   "metadata": {},
   "outputs": [],
   "source": [
    "features = ['Open', 'High', 'Low', 'Close', 'Adj Close', 'Volume']\n",
    "target = 'CloseUSD'"
   ]
  },
  {
   "cell_type": "code",
   "execution_count": 17,
   "metadata": {},
   "outputs": [],
   "source": [
    "X = data[features].values\n",
    "Y = data[target].values"
   ]
  },
  {
   "cell_type": "code",
   "execution_count": 18,
   "metadata": {},
   "outputs": [],
   "source": [
    "n_features = X.shape[1]\n",
    "lookback = 30"
   ]
  },
  {
   "cell_type": "code",
   "execution_count": 21,
   "metadata": {},
   "outputs": [],
   "source": [
    "X_organized, Y_organized = [], []\n",
    "for i in range(0, X.shape[0]-lookback, 1):\n",
    "    X_organized.append(X[i:i+lookback])\n",
    "    Y_organized.append(Y[i+lookback])\n",
    "\n",
    "X_organized, Y_organized = np.array(X_organized), np.array(Y_organized)\n",
    "X_organized, Y_organized = torch.tensor(X_organized, dtype=torch.float32), torch.tensor(Y_organized, dtype=torch.float32)\n",
    "\n",
    "X_train, X_test, Y_train, Y_test = train_test_split(X_organized, Y_organized, test_size=0.2, random_state=42)\n",
    "\n",
    "#X_organized.shape, Y_organized.shape,  X_train.shape, Y_train.shape, X_test.shape, Y_test.shape\n",
    "#X_train, Y_train, X_test, Y_test = X_organized[:50000], Y_organized[:50000], X_organized[50000:], Y_organized[50000:]"
   ]
  },
  {
   "cell_type": "code",
   "execution_count": 22,
   "metadata": {},
   "outputs": [],
   "source": [
    "mean, std = Y_train.mean(), Y_train.std()\n",
    "Y_train_scaled, Y_test_scaled = (Y_train - mean)/std , (Y_test-mean)/std"
   ]
  },
  {
   "cell_type": "code",
   "execution_count": 95,
   "metadata": {},
   "outputs": [],
   "source": [
    "train_data = TensorDataset(X_train, Y_train_scaled)\n",
    "test_data = TensorDataset(X_test, Y_test_scaled)\n",
    "\n",
    "batch_size = 64\n",
    "\n",
    "train_loader = DataLoader(train_data, shuffle=False, batch_size=batch_size)\n",
    "test_loader = DataLoader(test_data, shuffle=False, batch_size=batch_size)"
   ]
  },
  {
   "cell_type": "code",
   "execution_count": 31,
   "metadata": {},
   "outputs": [],
   "source": [
    "\n",
    "hidden_size = 256\n",
    "num_layers = 2"
   ]
  },
  {
   "cell_type": "code",
   "execution_count": 108,
   "metadata": {},
   "outputs": [],
   "source": [
    "class LSTMRegression(nn.Module):\n",
    "    def __init__(self):\n",
    "        super(LSTMRegression, self).__init__()\n",
    "        self.hidden_size = hidden_size\n",
    "        self.num_layers = num_layers\n",
    "        self.lstm = nn.LSTM(input_size = n_features, hidden_size =hidden_size,\n",
    "                            num_layers = num_layers, batch_first=True)\n",
    "        self.fc1 = nn.Linear(hidden_size, 64)\n",
    "        self.fc2 = nn.Linear(64, 1)\n",
    "\n",
    "        #self.activation = nn.LeakyReLU()\n",
    "        #self.activation = nn.ELU()\n",
    "        self.bn = nn.BatchNorm1d(64)\n",
    "        self.activation = nn.ReLU()\n",
    "\n",
    "    def forward(self, x):\n",
    "        hidden= torch.randn(num_layers, len(x), hidden_size).to(device)\n",
    "        carry = torch.randn(num_layers, len(x), hidden_size).to(device)\n",
    "        out, (hidden, carry) = self.lstm(x, (hidden, carry))\n",
    "        out = self.activation(self.fc1(out[:,-1]))\n",
    "        out = self.bn(out)\n",
    "        out = self.fc2(out)\n",
    "        return out"
   ]
  },
  {
   "cell_type": "code",
   "execution_count": 109,
   "metadata": {},
   "outputs": [
    {
     "data": {
      "text/plain": [
       "LSTMRegression(\n",
       "  (lstm): LSTM(6, 256, num_layers=2, batch_first=True)\n",
       "  (fc1): Linear(in_features=256, out_features=64, bias=True)\n",
       "  (fc2): Linear(in_features=64, out_features=1, bias=True)\n",
       "  (bn): BatchNorm1d(64, eps=1e-05, momentum=0.1, affine=True, track_running_stats=True)\n",
       "  (activation): ReLU()\n",
       ")"
      ]
     },
     "execution_count": 109,
     "metadata": {},
     "output_type": "execute_result"
    }
   ],
   "source": [
    "model = LSTMRegression()\n",
    "\n",
    "model"
   ]
  },
  {
   "cell_type": "code",
   "execution_count": 83,
   "metadata": {},
   "outputs": [
    {
     "name": "stdout",
     "output_type": "stream",
     "text": [
      "Layer : LSTM(6, 256, num_layers=2, batch_first=True)\n",
      "Parameters : \n",
      "torch.Size([1024, 6])\n",
      "torch.Size([1024, 256])\n",
      "torch.Size([1024])\n",
      "torch.Size([1024])\n",
      "torch.Size([1024, 256])\n",
      "torch.Size([1024, 256])\n",
      "torch.Size([1024])\n",
      "torch.Size([1024])\n",
      "\n",
      "Layer : Linear(in_features=256, out_features=64, bias=True)\n",
      "Parameters : \n",
      "torch.Size([64, 256])\n",
      "torch.Size([64])\n",
      "\n",
      "Layer : Linear(in_features=64, out_features=1, bias=True)\n",
      "Parameters : \n",
      "torch.Size([1, 64])\n",
      "torch.Size([1])\n",
      "\n",
      "Layer : LeakyReLU(negative_slope=0.01)\n",
      "Parameters : \n",
      "\n"
     ]
    }
   ],
   "source": [
    "for layer in model.children():\n",
    "    print(\"Layer : {}\".format(layer))\n",
    "    print(\"Parameters : \")\n",
    "    for param in layer.parameters():\n",
    "        print(param.shape)\n",
    "    print()"
   ]
  },
  {
   "cell_type": "code",
   "execution_count": 84,
   "metadata": {},
   "outputs": [],
   "source": [
    "def train_lstm(model, train_loader, test_loader, loss, optimizer, epochs):\n",
    "    device = torch.device(\"cuda\" if torch.cuda.is_available() else \"cpu\")\n",
    "    #model.to(device)\n",
    "\n",
    "    for epoch in range(1, epochs+1):\n",
    "        train_loss = []\n",
    "        test_loss = []\n",
    "        model.train()\n",
    "        for batch_x, batch_y in tqdm(train_loader):\n",
    "            optimizer.zero_grad()\n",
    "            batch_x = batch_x.to(device)\n",
    "            batch_y = batch_y.to(device)\n",
    "            output = model(batch_x)\n",
    "            l = loss(output.ravel(), batch_y)\n",
    "            train_loss.append(l.item())\n",
    "            l.backward()\n",
    "            optimizer.step()\n",
    "\n",
    "        print(\"Train Loss : {:.3f}\".format(torch.tensor(train_loss).mean()))\n",
    "\n",
    "        with torch.no_grad():\n",
    "            model.eval()\n",
    "            for batch_x, batch_y in test_loader:\n",
    "                batch_x = batch_x.to(device)\n",
    "                batch_y = batch_y.to(device)\n",
    "                output = model(batch_x)\n",
    "                l = loss(output.ravel(), batch_y)\n",
    "                test_loss.append(l.item())\n",
    "\n",
    "        print(\"Test Loss : {:.3f}\".format(torch.tensor(test_loss).mean()))"
   ]
  },
  {
   "cell_type": "code",
   "execution_count": 115,
   "metadata": {},
   "outputs": [],
   "source": [
    "# Hyperparameters\n",
    "\n",
    "epochs = 10\n",
    "lr = 1e-4\n",
    "#weight_decay = 1e-7"
   ]
  },
  {
   "cell_type": "code",
   "execution_count": 116,
   "metadata": {},
   "outputs": [],
   "source": [
    "loss = nn.MSELoss()\n",
    "optimizer = Adam(model.parameters(), lr=float(lr))\n",
    "\n",
    "model = model.to(device)"
   ]
  },
  {
   "cell_type": "code",
   "execution_count": 117,
   "metadata": {},
   "outputs": [
    {
     "name": "stderr",
     "output_type": "stream",
     "text": [
      "100%|██████████| 106/106 [00:01<00:00, 88.61it/s] \n"
     ]
    },
    {
     "name": "stdout",
     "output_type": "stream",
     "text": [
      "Train Loss : 0.509\n",
      "Test Loss : 0.480\n"
     ]
    },
    {
     "name": "stderr",
     "output_type": "stream",
     "text": [
      "100%|██████████| 106/106 [00:00<00:00, 106.94it/s]\n"
     ]
    },
    {
     "name": "stdout",
     "output_type": "stream",
     "text": [
      "Train Loss : 0.509\n",
      "Test Loss : 0.478\n"
     ]
    },
    {
     "name": "stderr",
     "output_type": "stream",
     "text": [
      "100%|██████████| 106/106 [00:01<00:00, 98.58it/s]\n"
     ]
    },
    {
     "name": "stdout",
     "output_type": "stream",
     "text": [
      "Train Loss : 0.508\n",
      "Test Loss : 0.480\n"
     ]
    },
    {
     "name": "stderr",
     "output_type": "stream",
     "text": [
      "100%|██████████| 106/106 [00:01<00:00, 93.29it/s]\n"
     ]
    },
    {
     "name": "stdout",
     "output_type": "stream",
     "text": [
      "Train Loss : 0.508\n",
      "Test Loss : 0.478\n"
     ]
    },
    {
     "name": "stderr",
     "output_type": "stream",
     "text": [
      "100%|██████████| 106/106 [00:00<00:00, 107.05it/s]\n"
     ]
    },
    {
     "name": "stdout",
     "output_type": "stream",
     "text": [
      "Train Loss : 0.507\n",
      "Test Loss : 0.478\n"
     ]
    },
    {
     "name": "stderr",
     "output_type": "stream",
     "text": [
      "100%|██████████| 106/106 [00:01<00:00, 105.98it/s]\n"
     ]
    },
    {
     "name": "stdout",
     "output_type": "stream",
     "text": [
      "Train Loss : 0.508\n",
      "Test Loss : 0.477\n"
     ]
    },
    {
     "name": "stderr",
     "output_type": "stream",
     "text": [
      "100%|██████████| 106/106 [00:00<00:00, 106.83it/s]\n"
     ]
    },
    {
     "name": "stdout",
     "output_type": "stream",
     "text": [
      "Train Loss : 0.508\n",
      "Test Loss : 0.479\n"
     ]
    },
    {
     "name": "stderr",
     "output_type": "stream",
     "text": [
      "100%|██████████| 106/106 [00:01<00:00, 105.03it/s]\n"
     ]
    },
    {
     "name": "stdout",
     "output_type": "stream",
     "text": [
      "Train Loss : 0.508\n",
      "Test Loss : 0.478\n"
     ]
    },
    {
     "name": "stderr",
     "output_type": "stream",
     "text": [
      "100%|██████████| 106/106 [00:01<00:00, 103.39it/s]\n"
     ]
    },
    {
     "name": "stdout",
     "output_type": "stream",
     "text": [
      "Train Loss : 0.508\n",
      "Test Loss : 0.477\n"
     ]
    },
    {
     "name": "stderr",
     "output_type": "stream",
     "text": [
      "100%|██████████| 106/106 [00:01<00:00, 97.58it/s]\n"
     ]
    },
    {
     "name": "stdout",
     "output_type": "stream",
     "text": [
      "Train Loss : 0.507\n",
      "Test Loss : 0.478\n"
     ]
    }
   ],
   "source": [
    "train_lstm(model, train_loader, test_loader, loss, optimizer, epochs)"
   ]
  },
  {
   "cell_type": "code",
   "execution_count": 151,
   "metadata": {},
   "outputs": [
    {
     "name": "stdout",
     "output_type": "stream",
     "text": [
      "(1682,)\n"
     ]
    }
   ],
   "source": [
    "X_test = X_test.to(device)\n",
    "test_preds = model(X_test)\n",
    "test_preds  = (test_preds*std) + mean\n",
    "test_preds = test_preds.cpu().detach().numpy().squeeze()\n",
    "\n",
    "print(test_preds.shape)"
   ]
  },
  {
   "cell_type": "code",
   "execution_count": 154,
   "metadata": {},
   "outputs": [
    {
     "name": "stdout",
     "output_type": "stream",
     "text": [
      "Test  MSE : 9431338.00\n",
      "Test  R^2 Score : 0.06\n"
     ]
    }
   ],
   "source": [
    "print(\"Test  MSE : {:.2f}\".format(mean_squared_error(test_preds, Y_test.detach().numpy())))\n",
    "print(\"Test  R^2 Score : {:.2f}\".format(r2_score(test_preds, Y_test.detach().numpy()))) # Close to 1 is good model"
   ]
  },
  {
   "cell_type": "code",
   "execution_count": 155,
   "metadata": {},
   "outputs": [
    {
     "ename": "ValueError",
     "evalue": "Length of values (1682) does not match length of index (50460)",
     "output_type": "error",
     "traceback": [
      "\u001b[1;31m---------------------------------------------------------------------------\u001b[0m",
      "\u001b[1;31mValueError\u001b[0m                                Traceback (most recent call last)",
      "Cell \u001b[1;32mIn[155], line 4\u001b[0m\n\u001b[0;32m      2\u001b[0m df \u001b[39m=\u001b[39m pd\u001b[39m.\u001b[39mDataFrame(data_final, columns\u001b[39m=\u001b[39m[\u001b[39mf\u001b[39m\u001b[39m'\u001b[39m\u001b[39mfeature_\u001b[39m\u001b[39m{\u001b[39;00mi\u001b[39m}\u001b[39;00m\u001b[39m'\u001b[39m \u001b[39mfor\u001b[39;00m i \u001b[39min\u001b[39;00m \u001b[39mrange\u001b[39m(n_features)])\n\u001b[0;32m      3\u001b[0m df_close \u001b[39m=\u001b[39m pd\u001b[39m.\u001b[39mDataFrame(data_final[:, \u001b[39m0\u001b[39m], columns\u001b[39m=\u001b[39m[\u001b[39m'\u001b[39m\u001b[39mCloseUSD\u001b[39m\u001b[39m'\u001b[39m])\n\u001b[1;32m----> 4\u001b[0m df_close[\u001b[39m'\u001b[39;49m\u001b[39mCloseUSD Prediction\u001b[39;49m\u001b[39m'\u001b[39;49m] \u001b[39m=\u001b[39m test_preds\n\u001b[0;32m      5\u001b[0m df_close\u001b[39m.\u001b[39mset_index(df\u001b[39m.\u001b[39mindex, inplace\u001b[39m=\u001b[39m\u001b[39mTrue\u001b[39;00m)\n\u001b[0;32m      7\u001b[0m df_close\u001b[39m.\u001b[39mplot(y\u001b[39m=\u001b[39m[\u001b[39m\"\u001b[39m\u001b[39mCloseUSD\u001b[39m\u001b[39m\"\u001b[39m, \u001b[39m\"\u001b[39m\u001b[39mCloseUSD Prediction\u001b[39m\u001b[39m\"\u001b[39m], figsize\u001b[39m=\u001b[39m(\u001b[39m18\u001b[39m,\u001b[39m7\u001b[39m))\n",
      "File \u001b[1;32md:\\Miniconda\\envs\\dlnn\\lib\\site-packages\\pandas\\core\\frame.py:3980\u001b[0m, in \u001b[0;36mDataFrame.__setitem__\u001b[1;34m(self, key, value)\u001b[0m\n\u001b[0;32m   3977\u001b[0m     \u001b[39mself\u001b[39m\u001b[39m.\u001b[39m_setitem_array([key], value)\n\u001b[0;32m   3978\u001b[0m \u001b[39melse\u001b[39;00m:\n\u001b[0;32m   3979\u001b[0m     \u001b[39m# set column\u001b[39;00m\n\u001b[1;32m-> 3980\u001b[0m     \u001b[39mself\u001b[39;49m\u001b[39m.\u001b[39;49m_set_item(key, value)\n",
      "File \u001b[1;32md:\\Miniconda\\envs\\dlnn\\lib\\site-packages\\pandas\\core\\frame.py:4174\u001b[0m, in \u001b[0;36mDataFrame._set_item\u001b[1;34m(self, key, value)\u001b[0m\n\u001b[0;32m   4164\u001b[0m \u001b[39mdef\u001b[39;00m \u001b[39m_set_item\u001b[39m(\u001b[39mself\u001b[39m, key, value) \u001b[39m-\u001b[39m\u001b[39m>\u001b[39m \u001b[39mNone\u001b[39;00m:\n\u001b[0;32m   4165\u001b[0m \u001b[39m    \u001b[39m\u001b[39m\"\"\"\u001b[39;00m\n\u001b[0;32m   4166\u001b[0m \u001b[39m    Add series to DataFrame in specified column.\u001b[39;00m\n\u001b[0;32m   4167\u001b[0m \n\u001b[1;32m   (...)\u001b[0m\n\u001b[0;32m   4172\u001b[0m \u001b[39m    ensure homogeneity.\u001b[39;00m\n\u001b[0;32m   4173\u001b[0m \u001b[39m    \"\"\"\u001b[39;00m\n\u001b[1;32m-> 4174\u001b[0m     value \u001b[39m=\u001b[39m \u001b[39mself\u001b[39;49m\u001b[39m.\u001b[39;49m_sanitize_column(value)\n\u001b[0;32m   4176\u001b[0m     \u001b[39mif\u001b[39;00m (\n\u001b[0;32m   4177\u001b[0m         key \u001b[39min\u001b[39;00m \u001b[39mself\u001b[39m\u001b[39m.\u001b[39mcolumns\n\u001b[0;32m   4178\u001b[0m         \u001b[39mand\u001b[39;00m value\u001b[39m.\u001b[39mndim \u001b[39m==\u001b[39m \u001b[39m1\u001b[39m\n\u001b[0;32m   4179\u001b[0m         \u001b[39mand\u001b[39;00m \u001b[39mnot\u001b[39;00m is_extension_array_dtype(value)\n\u001b[0;32m   4180\u001b[0m     ):\n\u001b[0;32m   4181\u001b[0m         \u001b[39m# broadcast across multiple columns if necessary\u001b[39;00m\n\u001b[0;32m   4182\u001b[0m         \u001b[39mif\u001b[39;00m \u001b[39mnot\u001b[39;00m \u001b[39mself\u001b[39m\u001b[39m.\u001b[39mcolumns\u001b[39m.\u001b[39mis_unique \u001b[39mor\u001b[39;00m \u001b[39misinstance\u001b[39m(\u001b[39mself\u001b[39m\u001b[39m.\u001b[39mcolumns, MultiIndex):\n",
      "File \u001b[1;32md:\\Miniconda\\envs\\dlnn\\lib\\site-packages\\pandas\\core\\frame.py:4915\u001b[0m, in \u001b[0;36mDataFrame._sanitize_column\u001b[1;34m(self, value)\u001b[0m\n\u001b[0;32m   4912\u001b[0m     \u001b[39mreturn\u001b[39;00m _reindex_for_setitem(Series(value), \u001b[39mself\u001b[39m\u001b[39m.\u001b[39mindex)\n\u001b[0;32m   4914\u001b[0m \u001b[39mif\u001b[39;00m is_list_like(value):\n\u001b[1;32m-> 4915\u001b[0m     com\u001b[39m.\u001b[39;49mrequire_length_match(value, \u001b[39mself\u001b[39;49m\u001b[39m.\u001b[39;49mindex)\n\u001b[0;32m   4916\u001b[0m \u001b[39mreturn\u001b[39;00m sanitize_array(value, \u001b[39mself\u001b[39m\u001b[39m.\u001b[39mindex, copy\u001b[39m=\u001b[39m\u001b[39mTrue\u001b[39;00m, allow_2d\u001b[39m=\u001b[39m\u001b[39mTrue\u001b[39;00m)\n",
      "File \u001b[1;32md:\\Miniconda\\envs\\dlnn\\lib\\site-packages\\pandas\\core\\common.py:571\u001b[0m, in \u001b[0;36mrequire_length_match\u001b[1;34m(data, index)\u001b[0m\n\u001b[0;32m    567\u001b[0m \u001b[39m\u001b[39m\u001b[39m\"\"\"\u001b[39;00m\n\u001b[0;32m    568\u001b[0m \u001b[39mCheck the length of data matches the length of the index.\u001b[39;00m\n\u001b[0;32m    569\u001b[0m \u001b[39m\"\"\"\u001b[39;00m\n\u001b[0;32m    570\u001b[0m \u001b[39mif\u001b[39;00m \u001b[39mlen\u001b[39m(data) \u001b[39m!=\u001b[39m \u001b[39mlen\u001b[39m(index):\n\u001b[1;32m--> 571\u001b[0m     \u001b[39mraise\u001b[39;00m \u001b[39mValueError\u001b[39;00m(\n\u001b[0;32m    572\u001b[0m         \u001b[39m\"\u001b[39m\u001b[39mLength of values \u001b[39m\u001b[39m\"\u001b[39m\n\u001b[0;32m    573\u001b[0m         \u001b[39mf\u001b[39m\u001b[39m\"\u001b[39m\u001b[39m(\u001b[39m\u001b[39m{\u001b[39;00m\u001b[39mlen\u001b[39m(data)\u001b[39m}\u001b[39;00m\u001b[39m) \u001b[39m\u001b[39m\"\u001b[39m\n\u001b[0;32m    574\u001b[0m         \u001b[39m\"\u001b[39m\u001b[39mdoes not match length of index \u001b[39m\u001b[39m\"\u001b[39m\n\u001b[0;32m    575\u001b[0m         \u001b[39mf\u001b[39m\u001b[39m\"\u001b[39m\u001b[39m(\u001b[39m\u001b[39m{\u001b[39;00m\u001b[39mlen\u001b[39m(index)\u001b[39m}\u001b[39;00m\u001b[39m)\u001b[39m\u001b[39m\"\u001b[39m\n\u001b[0;32m    576\u001b[0m     )\n",
      "\u001b[1;31mValueError\u001b[0m: Length of values (1682) does not match length of index (50460)"
     ]
    }
   ],
   "source": [
    "data_final = X_test.cpu().detach().numpy().reshape(-1, n_features)\n",
    "df = pd.DataFrame(data_final, columns=[f'feature_{i}' for i in range(n_features)])\n",
    "df_close = pd.DataFrame(data_final[:, 0], columns=['CloseUSD'])\n",
    "df_close['CloseUSD Prediction'] = test_preds\n",
    "df_close.set_index(df.index, inplace=True)\n",
    "\n",
    "df_close.plot(y=[\"CloseUSD\", \"CloseUSD Prediction\"], figsize=(18,7))\n",
    "plt.grid(which='minor', linestyle=':', linewidth='0.5', color='black')\n"
   ]
  }
 ],
 "metadata": {
  "kernelspec": {
   "display_name": "dlnn",
   "language": "python",
   "name": "python3"
  },
  "language_info": {
   "codemirror_mode": {
    "name": "ipython",
    "version": 3
   },
   "file_extension": ".py",
   "mimetype": "text/x-python",
   "name": "python",
   "nbconvert_exporter": "python",
   "pygments_lexer": "ipython3",
   "version": "3.10.9"
  },
  "orig_nbformat": 4,
  "vscode": {
   "interpreter": {
    "hash": "3e819669f7535f76914261b6d869e8408c43f4a812a369b6d2bdeb675d1d63cd"
   }
  }
 },
 "nbformat": 4,
 "nbformat_minor": 2
}
